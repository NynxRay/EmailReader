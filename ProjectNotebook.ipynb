{
 "cells": [
  {
   "cell_type": "markdown",
   "metadata": {},
   "source": [
    "# Project Description"
   ]
  },
  {
   "cell_type": "markdown",
   "metadata": {},
   "source": [
    "This project will read emails from Gmail with IMAP and it will loop through all the emails and encrypt with variable encoder.\n",
    "It could also decode encrypted messages with given start_key and key_increment\n",
    "\n",
    "If you want to test on your own email, please enable IMAP connection and enable less secure app to connect to your email. "
   ]
  },
  {
   "cell_type": "markdown",
   "metadata": {},
   "source": [
    "## Project Code\n",
    "\n",
    "If it makes sense for your project, you can have code and outputs here in the notebook as well."
   ]
  },
  {
   "cell_type": "code",
   "execution_count": 1,
   "metadata": {},
   "outputs": [],
   "source": [
    "from my_module.function import read_email_as_Strings, encryption, decryption"
   ]
  },
  {
   "cell_type": "code",
   "execution_count": 2,
   "metadata": {},
   "outputs": [],
   "source": [
    "from my_module.test import test_my_emailReader, test_my_encryption, test_my_decryption"
   ]
  },
  {
   "cell_type": "code",
   "execution_count": 3,
   "metadata": {},
   "outputs": [],
   "source": [
    "import os"
   ]
  },
  {
   "cell_type": "code",
   "execution_count": 4,
   "metadata": {},
   "outputs": [
    {
     "name": "stdout",
     "output_type": "stream",
     "text": [
      "Already load the email Number0\n",
      "Already load the email Number1\n",
      "Email Load success\n"
     ]
    }
   ],
   "source": [
    "# loaded emails will be put into txt file in text folder\n",
    "read_email_as_Strings('@gmail.com','password')"
   ]
  },
  {
   "cell_type": "code",
   "execution_count": 24,
   "metadata": {},
   "outputs": [],
   "source": [
    "# Test if the emails are loaded  ######EXTERNAL CODE MODIFIED#######\n",
    "test_my_emailReader()"
   ]
  },
  {
   "cell_type": "code",
   "execution_count": 25,
   "metadata": {},
   "outputs": [],
   "source": [
    "# Read the txt files and put them in a list of strings\n",
    "pre_string = []\n",
    "mypath = \"text\"\n",
    "files = [f for f in os.listdir(mypath) if os.path.isfile(os.path.join(mypath,f))]\n",
    "for item in files:\n",
    "    email_file = open(mypath+'/'+item,'r')\n",
    "    email_text = email_file.read()\n",
    "    pre_string.append(email_text)"
   ]
  },
  {
   "cell_type": "code",
   "execution_count": 28,
   "metadata": {},
   "outputs": [],
   "source": [
    "#random Number Generator for start_key and key_increment\n",
    "import random\n",
    "start_key = random.randint(80,150)\n",
    "key_increment = random.randint(3,8)"
   ]
  },
  {
   "cell_type": "code",
   "execution_count": 29,
   "metadata": {},
   "outputs": [],
   "source": [
    "# Encode all the email messages\n",
    "encoded_list = []\n",
    "for message in pre_string:\n",
    "    encoded = encryption(start_key,key_increment,message)\n",
    "    encoded_list.append(encoded)"
   ]
  },
  {
   "cell_type": "code",
   "execution_count": 30,
   "metadata": {},
   "outputs": [],
   "source": [
    "test_my_encryption(start_key,key_increment,message)"
   ]
  },
  {
   "cell_type": "code",
   "execution_count": 31,
   "metadata": {},
   "outputs": [],
   "source": [
    "# Decode all the email messages\n",
    "decoded_list = []\n",
    "for encoded in encoded_list:\n",
    "    decoded = decryption(start_key,key_increment,encoded)\n",
    "    decoded_list.append(decoded)"
   ]
  },
  {
   "cell_type": "code",
   "execution_count": 32,
   "metadata": {},
   "outputs": [],
   "source": [
    "test_my_decryption(start_key,key_increment,encoded)"
   ]
  }
 ],
 "metadata": {
  "kernelspec": {
   "display_name": "Python 3",
   "language": "python",
   "name": "python3"
  },
  "language_info": {
   "codemirror_mode": {
    "name": "ipython",
    "version": 3
   },
   "file_extension": ".py",
   "mimetype": "text/x-python",
   "name": "python",
   "nbconvert_exporter": "python",
   "pygments_lexer": "ipython3",
   "version": "3.6.5"
  }
 },
 "nbformat": 4,
 "nbformat_minor": 2
}
